{
 "cells": [
  {
   "cell_type": "code",
   "execution_count": 3,
   "id": "a616e037",
   "metadata": {},
   "outputs": [
    {
     "name": "stdout",
     "output_type": "stream",
     "text": [
      "Requirement already satisfied: PyPDF2 in /home/vhugosantos/Downloads/GIT/Nuvem-de-Palavras/LLM/.venv/lib/python3.12/site-packages (3.0.1)\n",
      "Note: you may need to restart the kernel to use updated packages.\n",
      "PDF 'Isaac Asimov - Eu, Robô.pdf' converted to 'output2.txt' successfully.\n"
     ]
    }
   ],
   "source": [
    "# prompt: converta um arquivo pdf em txt padrão utf-8\n",
    "\n",
    "%pip install PyPDF2\n",
    "\n",
    "import PyPDF2\n",
    "import re\n",
    "\n",
    "def convert_pdf_to_txt(pdf_path, txt_path):\n",
    "    try:\n",
    "        with open(pdf_path, 'rb') as pdf_file:\n",
    "            pdf_reader = PyPDF2.PdfReader(pdf_file)\n",
    "            text = ''\n",
    "            for page in pdf_reader.pages:\n",
    "                text += page.extract_text()\n",
    "\n",
    "            # Remove extra whitespace and newlines\n",
    "            text = re.sub(r'\\s+', ' ', text)\n",
    "\n",
    "            with open(txt_path, 'w', encoding='utf-8') as txt_file:\n",
    "                txt_file.write(text)\n",
    "\n",
    "        print(f\"PDF '{pdf_path}' converted to '{txt_path}' successfully.\")\n",
    "    except FileNotFoundError:\n",
    "        print(f\"Error: File '{pdf_path}' not found.\")\n",
    "    except Exception as e:\n",
    "        print(f\"An error occurred: {e}\")\n",
    "\n",
    "\n",
    "# Example usage:\n",
    "pdf_file_path = 'Isaac Asimov - Eu, Robô.pdf'  # Replace with your PDF file path\n",
    "txt_file_path = 'output2.txt'      # Replace with desired output file path\n",
    "\n",
    "convert_pdf_to_txt(pdf_file_path, txt_file_path)\n"
   ]
  }
 ],
 "metadata": {
  "kernelspec": {
   "display_name": ".venv",
   "language": "python",
   "name": "python3"
  },
  "language_info": {
   "codemirror_mode": {
    "name": "ipython",
    "version": 3
   },
   "file_extension": ".py",
   "mimetype": "text/x-python",
   "name": "python",
   "nbconvert_exporter": "python",
   "pygments_lexer": "ipython3",
   "version": "3.12.10"
  }
 },
 "nbformat": 4,
 "nbformat_minor": 5
}
